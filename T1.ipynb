{
 "cells": [
  {
   "cell_type": "markdown",
   "metadata": {},
   "source": [
    "<center>机器学习-第一次作业<br>\n",
    "第二组工程文件</center>"
   ]
  },
  {
   "cell_type": "code",
   "execution_count": 1,
   "metadata": {},
   "outputs": [],
   "source": [
    "import csv\n",
    "import numpy as np\n",
    "from sklearn.model_selection import KFold\n",
    "\n",
    "def preprocess(path):\n",
    "    csvFile = open(path, \"r\")\n",
    "    reader = csv.reader(csvFile)\n",
    "    xy = []\n",
    "    m = 0\n",
    "    for row in reader:\n",
    "        lr = len(row)\n",
    "        if m != 0:\n",
    "            for i in range(lr):\n",
    "                row[i] = float(row[i])\n",
    "            xy.append(row[1:lr])\n",
    "        m += 1\n",
    "    xy = np.array(xy)\n",
    "    kf = KFold(n_splits=10, shuffle=False)\n",
    "    x_tr = []\n",
    "    y_tr = []\n",
    "    x_te = []\n",
    "    y_te = []\n",
    "    for train_index, test_index in kf.split(xy):\n",
    "        xy_tr, xy_te = xy[train_index], xy[test_index]\n",
    "        x_tr.append(xy_tr[:, 0:3])\n",
    "        y_tr.append(xy_tr[:, 3])\n",
    "        x_te.append(xy_te[:, 0:3])\n",
    "        y_te.append(xy_te[:, 3])\n",
    "    return x_tr,y_tr,x_te,y_te\n",
    "\n",
    "x_train,y_train,x_test,y_test = preprocess(\"Data/Advertising_train.csv\")"
   ]
  },
  {
   "cell_type": "code",
   "execution_count": null,
   "metadata": {},
   "outputs": [],
   "source": []
  }
 ],
 "metadata": {
  "kernelspec": {
   "display_name": "Python 3",
   "language": "python",
   "name": "python3"
  },
  "language_info": {
   "codemirror_mode": {
    "name": "ipython",
    "version": 3
   },
   "file_extension": ".py",
   "mimetype": "text/x-python",
   "name": "python",
   "nbconvert_exporter": "python",
   "pygments_lexer": "ipython3",
   "version": "3.8.3"
  }
 },
 "nbformat": 4,
 "nbformat_minor": 4
}
